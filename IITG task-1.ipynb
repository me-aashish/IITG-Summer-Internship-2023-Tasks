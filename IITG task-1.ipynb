{
 "cells": [
  {
   "cell_type": "markdown",
   "id": "b0c44004",
   "metadata": {},
   "source": [
    "### [5 Marks] Implement Inverse CDF sampling for the Fréchet distribution. With sufficient number of samples, plot the kernel density estimation plot and show that you are able to match the PDF. Also, reproduce the following figure and visualize it:"
   ]
  },
  {
   "cell_type": "raw",
   "id": "babe1df1",
   "metadata": {},
   "source": []
  },
  {
   "cell_type": "markdown",
   "id": "da9ac744",
   "metadata": {},
   "source": [
    "The Fréchet distribution or the Weibull distribution(both are almost same; in Weibul Distribution, the location parameter from Fréchet distribution is generally set to zero and here we are doing calculations by setting location parameter to zero) has the following PDF :\n",
    "<span style=\"color:blue\">$$ f(x) = \\frac{\\beta}{\\alpha}*(\\frac{x}{\\alpha})^{\\beta-1}*e^{-(\\frac{x}{\\alpha})^{\\beta}} $$</span>\n",
    "where $\\beta$ is \"shape\" parameter and $\\alpha$  is \"scale\" parameter\n",
    "<br></br>\n",
    "For Fréchet distribution, CDF is as follows :\n",
    "<span style=\"color:blue\"> \n",
    "    $$F(x)=\\begin{equation}\n",
    "\\left\\{ \n",
    "  \\begin{aligned}\n",
    "     1-e^{-(\\frac{x}{\\alpha})^{\\beta}} & \\text{; for } x > 0\\\\    \n",
    "     0  & \\text{ ; otherwise }\\\\ \n",
    "  \\end{aligned}\n",
    "  \\right.\n",
    "\\end{equation}\n",
    "$$ </span>\n",
    "<br></br>\n",
    "\n",
    "And so the inverse CDF for Fréchet distribution is : \n",
    "<span style=\"color:blue\"> $$F^{-1}(x) = \\alpha*\\lbrace -ln(1-x)\\rbrace^{\\frac{1}{\\beta}}$$ </span>\n",
    "\n",
    "###### (The derivation of above functions are given in the last cell)"
   ]
  },
  {
   "cell_type": "code",
   "execution_count": 28,
   "id": "2503e41a",
   "metadata": {},
   "outputs": [
    {
     "data": {
      "image/png": "[encoded data removed]",
      "text/plain": [
       "<Figure size 576x396 with 1 Axes>"
      ]
     },
     "metadata": {},
     "output_type": "display_data"
    }
   ],
   "source": [
    "import numpy as np\n",
    "import matplotlib.pyplot as plt\n",
    "from scipy.stats import gaussian_kde\n",
    "\n",
    "# Define the inverse CDF function for the Weibull distribution\n",
    "def weibull_icdf(u, alpha, beta):\n",
    "    return alpha * (-np.log(1 - u))**(1/beta)\n",
    "\n",
    "# Set the shape and scale parameters of the Weibull distribution\n",
    "alpha = 2\n",
    "beta = 3\n",
    "\n",
    "# Generate 10,000 random numbers using inverse CDF sampling\n",
    "num_samples = 10000\n",
    "\n",
    "#to generate same uniform random numbers from 0 to 1 agian and again\n",
    "np.random.seed(23)\n",
    "u = np.random.uniform(size=num_samples)\n",
    "\n",
    "samples = inverse_cdf_Fréchet(u, alpha, beta)\n",
    "\n",
    "# Generate the PDF plot of the Weibull distribution\n",
    "x = np.linspace(0, 20, 1000)\n",
    "pdf = (beta/alpha) * (x/alpha)**(beta-1) * np.exp(-(x/alpha)**beta)\n",
    "\n",
    "# Generate the kernel density estimation plot of the generated samples\n",
    "kde = gaussian_kde(samples)\n",
    "kde_x = np.linspace(0, 20, 1000)\n",
    "kde_y = kde(kde_x)\n",
    "\n",
    "# Plot the histogram, PDF plot, and KDE plot of the generated samples\n",
    "plt.style.use(\"seaborn\")\n",
    "plt.hist(samples, bins=50, density=True, alpha=0.5, label=\"Samples\")\n",
    "plt.plot(x, pdf, label=\"Fréchet PDF\",color=\"blue\")\n",
    "plt.plot(kde_x, kde_y, label=\"Fréchet KDE\",color=\"red\")\n",
    "plt.xlabel(\"x\")\n",
    "plt.ylabel(\"Density\")\n",
    "plt.legend()\n",
    "plt.show()\n"
   ]
  },
  {
   "cell_type": "markdown",
   "id": "2f761174",
   "metadata": {},
   "source": [
    "Here, we can see that the with the 10,000 samples, the kernel desnity estimation plot matches perfectly with the PDF."
   ]
  },
  {
   "cell_type": "code",
   "execution_count": null,
   "id": "213d6666",
   "metadata": {},
   "outputs": [],
   "source": []
  }
 ],
 "metadata": {
  "kernelspec": {
   "display_name": "Python 3 (ipykernel)",
   "language": "python",
   "name": "python3"
  },
  "language_info": {
   "codemirror_mode": {
    "name": "ipython",
    "version": 3
   },
   "file_extension": ".py",
   "mimetype": "text/x-python",
   "name": "python",
   "nbconvert_exporter": "python",
   "pygments_lexer": "ipython3",
   "version": "3.8.0"
  }
 },
 "nbformat": 4,
 "nbformat_minor": 5
}
